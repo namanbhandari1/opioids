{
 "cells": [
  {
   "cell_type": "markdown",
   "metadata": {},
   "source": [
    "# Analysis of Medicare Claims Data, for Medicare Beneficiaries with Opioid Dependence Diagnoses\n",
    "\n",
    "Prompt: To manipulate a subset of claims that map to patients diagnosed with opioid dependence.\n",
    "\n",
    "My goal in this analysis is to perform exploratory data analysis to see whether there may be some investment signals in this data related to opioid dependence. Theoretically this should help in determining whether manufacturers of drugs that treat opioid dependence are accessing the full extent of the growth in the market / patient population."
   ]
  },
  {
   "cell_type": "code",
   "execution_count": 188,
   "metadata": {},
   "outputs": [],
   "source": [
    "import pandas as pd\n",
    "import numpy as np\n",
    "import seaborn as sns\n",
    "import matplotlib.pyplot as plt\n",
    "from matplotlib.ticker import PercentFormatter"
   ]
  },
  {
   "cell_type": "markdown",
   "metadata": {},
   "source": [
    "## Load Outpatient data"
   ]
  },
  {
   "cell_type": "markdown",
   "metadata": {},
   "source": [
    "The `CMS Outpatient Claims DE-SynPUF` contains synthetic institutional claims for outpatient services provided to the synthetic Medicare beneficiaries. It contains 76 variables, for which you can find definitions [here](https://www.cms.gov/Research-Statistics-Data-and-Systems/Downloadable-Public-Use-Files/SynPUFs/Downloads/SynPUF_Codebook.pout_df). Each record pertains to a synthetic outpatient claim. \n",
    "\n",
    "Most variables are self explanatory; however, a majority of the variables relate to diagnosis, procedure, or revenue codes, as follows:\n",
    "\n",
    "- **ICD-9-DGNS (Diagnosis)**: diagnosis codes, which are relevant for our analysis.\n",
    "- **ICD-9-PRCDR (Procedure)**: procedure codes, most of which are missing because these are meant to be used for inpatient procedures only.\n",
    "- **HCPCS (Diagnosis)**: HCPCS codes are used to represent medical procedures to Medicare, Medicaid, and several other third-party payers.\n",
    "\n",
    "Source: http://www.icppharm.com/News-Resources/Articles/Archive-Articles/ICD-10-It’s-closer-than-it-seems.aspx"
   ]
  },
  {
   "cell_type": "code",
   "execution_count": 110,
   "metadata": {
    "scrolled": true
   },
   "outputs": [],
   "source": [
    "out_df = pd.read_csv('./DE1_0_2008_to_2010_Outpatient_Claims_Sample_1.csv',\n",
    "                     dtype={'AT_PHYSN_NPI': 'str',\n",
    "                            'OP_PHYSN_NPI': 'str',\n",
    "                            'OT_PHYSN_NPI': 'str'})"
   ]
  },
  {
   "cell_type": "code",
   "execution_count": 111,
   "metadata": {
    "scrolled": true
   },
   "outputs": [
    {
     "data": {
      "text/plain": [
       "(76, 790790)"
      ]
     },
     "execution_count": 111,
     "metadata": {},
     "output_type": "execute_result"
    }
   ],
   "source": [
    "# This is the shape of our dataframe (columns x rows)\n",
    "len(out_df.columns), len(out_df)"
   ]
  },
  {
   "cell_type": "markdown",
   "metadata": {},
   "source": [
    "#### Obtain only rows containing ICD-9 codes beginning with '3040'"
   ]
  },
  {
   "cell_type": "markdown",
   "metadata": {},
   "source": [
    "Below is a list containing the column names of ICD-9 Diagnosis codes:"
   ]
  },
  {
   "cell_type": "code",
   "execution_count": 112,
   "metadata": {
    "scrolled": false
   },
   "outputs": [
    {
     "data": {
      "text/plain": [
       "['ICD9_DGNS_CD_1',\n",
       " 'ICD9_DGNS_CD_2',\n",
       " 'ICD9_DGNS_CD_3',\n",
       " 'ICD9_DGNS_CD_4',\n",
       " 'ICD9_DGNS_CD_5',\n",
       " 'ICD9_DGNS_CD_6',\n",
       " 'ICD9_DGNS_CD_7',\n",
       " 'ICD9_DGNS_CD_8',\n",
       " 'ICD9_DGNS_CD_9',\n",
       " 'ICD9_DGNS_CD_10']"
      ]
     },
     "execution_count": 112,
     "metadata": {},
     "output_type": "execute_result"
    }
   ],
   "source": [
    "icd_diag = list(out_df.columns[12:22])\n",
    "icd_diag"
   ]
  },
  {
   "cell_type": "markdown",
   "metadata": {},
   "source": [
    "#### Convert columns containing dates to DateTime format"
   ]
  },
  {
   "cell_type": "code",
   "execution_count": 113,
   "metadata": {},
   "outputs": [],
   "source": [
    "out_df['CLM_FROM_DT'] = pd.to_datetime(out_df['CLM_FROM_DT'].astype(str), format='%Y%m%d')\n",
    "out_df['CLM_THRU_DT'] = pd.to_datetime(out_df['CLM_THRU_DT'].astype(str), format='%Y%m%d')"
   ]
  },
  {
   "cell_type": "markdown",
   "metadata": {},
   "source": [
    "#### Add a year column"
   ]
  },
  {
   "cell_type": "code",
   "execution_count": 115,
   "metadata": {},
   "outputs": [],
   "source": [
    "out_df['year'] = out_df['CLM_THRU_DT'].dt.to_period('Y')\n",
    "out_df['year'] = out_df['year'].astype(str)"
   ]
  },
  {
   "cell_type": "markdown",
   "metadata": {},
   "source": [
    "## Analysis: Outpatients diagnosed with opioid abuse\n",
    "Okay, now that we've loaded the data and made some formatting changes, let's pull some numbers from the data. First, let's create an index corresponding to any rows that contain one of our relevant ICD codes:"
   ]
  },
  {
   "cell_type": "code",
   "execution_count": 116,
   "metadata": {},
   "outputs": [],
   "source": [
    "out_index = list(\n",
    "    out_df[icd_diag][out_df[icd_diag].isin(\n",
    "        ['30400','30401','30402','30403']\n",
    "    ).any(axis=1)].index\n",
    ")"
   ]
  },
  {
   "cell_type": "markdown",
   "metadata": {},
   "source": [
    "Then, we can filter our dataframe to show only those beneficiaries that corresponding to our selected Diagnosis codes. There are 212 unique beneficiaries diagnosed with `Opioid Dependency` in our sample:"
   ]
  },
  {
   "cell_type": "code",
   "execution_count": 219,
   "metadata": {},
   "outputs": [
    {
     "data": {
      "text/plain": [
       "212"
      ]
     },
     "execution_count": 219,
     "metadata": {},
     "output_type": "execute_result"
    }
   ],
   "source": [
    "out_ids = list(out_df.iloc[out_index]['DESYNPUF_ID'].unique())\n",
    "out_df.iloc[out_index]['DESYNPUF_ID'].nunique()"
   ]
  },
  {
   "cell_type": "markdown",
   "metadata": {},
   "source": [
    "Let's check how many unique cumulative beneficiaries there are in our sample from a 1-year, 2-year, and 3-year cumulative perspective (prevalence):"
   ]
  },
  {
   "cell_type": "code",
   "execution_count": 179,
   "metadata": {},
   "outputs": [
    {
     "name": "stdout",
     "output_type": "stream",
     "text": [
      "Number of beneficiaries for whom an opioid dependency claim was submitted\n",
      "2008: 73\n",
      "2008-2009: 161\n",
      "2008-2010: 212\n"
     ]
    }
   ],
   "source": [
    "print(\"Number of Inpatient beneficiaries for whom an opioid dependency claim was submitted\")\n",
    "print(\"2008:\", out_df.iloc[out_index][out_df.iloc[out_index]['year'].isin(['2008'])]['DESYNPUF_ID'].nunique())\n",
    "print(\"2008-2009:\", out_df.iloc[out_index][out_df.iloc[out_index]['year'].isin(['2008', '2009'])]['DESYNPUF_ID'].nunique())\n",
    "print(\"2008-2010:\", out_df.iloc[out_index][out_df.iloc[out_index]['year'].isin(['2008', '2009', '2010'])]['DESYNPUF_ID'].nunique())"
   ]
  },
  {
   "cell_type": "code",
   "execution_count": 181,
   "metadata": {},
   "outputs": [
    {
     "name": "stdout",
     "output_type": "stream",
     "text": [
      "Number of total Medicare beneficiaries for whom any claim was submitted\n",
      "2008: 59609\n",
      "2008-2009: 77732\n",
      "2008-2010: 85238\n"
     ]
    }
   ],
   "source": [
    "print(\"Number of total Inpatient Medicare beneficiaries for whom any claim was submitted\")\n",
    "print(\"2008:\", out_df[out_df['year'].isin(['2008'])]['DESYNPUF_ID'].nunique())\n",
    "print(\"2008-2009:\", out_df[out_df['year'].isin(['2008', '2009'])]['DESYNPUF_ID'].nunique())\n",
    "print(\"2008-2010:\", out_df[out_df['year'].isin(['2008', '2009', '2010'])]['DESYNPUF_ID'].nunique())"
   ]
  },
  {
   "cell_type": "code",
   "execution_count": 216,
   "metadata": {},
   "outputs": [
    {
     "name": "stdout",
     "output_type": "stream",
     "text": [
      "Prevalence (%) of opioid dependency in total Medicare beneficiaries\n",
      "2008: 0.122%\n",
      "2008-2009: 0.207%\n",
      "2008-2010: 0.249%\n"
     ]
    }
   ],
   "source": [
    "print(\"Prevalence (%) of opioid dependency in total Inpatient Medicare beneficiaries\")\n",
    "print(\"2008:\", \"{0:.3%}\".format(out_df.iloc[out_index][out_df.iloc[out_index]['year'].isin(['2008'])]['DESYNPUF_ID'].nunique() / out_df[out_df['year'].isin(['2008'])]['DESYNPUF_ID'].nunique()))\n",
    "print(\"2008-2009:\", \"{0:.3%}\".format(out_df.iloc[out_index][out_df.iloc[out_index]['year'].isin(['2008', '2009'])]['DESYNPUF_ID'].nunique() / out_df[out_df['year'].isin(['2008', '2009'])]['DESYNPUF_ID'].nunique()))\n",
    "print(\"2008-2010:\", \"{0:.3%}\".format(out_df.iloc[out_index][out_df.iloc[out_index]['year'].isin(['2008', '2009', '2010'])]['DESYNPUF_ID'].nunique() / out_df[out_df['year'].isin(['2008', '2009', '2010'])]['DESYNPUF_ID'].nunique()))"
   ]
  },
  {
   "cell_type": "markdown",
   "metadata": {},
   "source": [
    "Let's plot the above data."
   ]
  },
  {
   "cell_type": "code",
   "execution_count": 415,
   "metadata": {},
   "outputs": [
    {
     "data": {
      "image/png": "[encoded data removed]",
      "text/plain": [
       "<Figure size 432x288 with 1 Axes>"
      ]
     },
     "metadata": {},
     "output_type": "display_data"
    }
   ],
   "source": [
    "year = ['2008', '2009', '2010']\n",
    "in_rate = [out_df.iloc[out_index][out_df.iloc[out_index]['year'].isin(['2008'])]['DESYNPUF_ID'].nunique() / out_df[out_df['year'].isin(['2008'])]['DESYNPUF_ID'].nunique(),\n",
    "           out_df.iloc[out_index][out_df.iloc[out_index]['year'].isin(['2008', '2009'])]['DESYNPUF_ID'].nunique() / out_df[out_df['year'].isin(['2008', '2009'])]['DESYNPUF_ID'].nunique(),\n",
    "           out_df.iloc[out_index][out_df.iloc[out_index]['year'].isin(['2008', '2009', '2010'])]['DESYNPUF_ID'].nunique() / out_df[out_df['year'].isin(['2008', '2009', '2010'])]['DESYNPUF_ID'].nunique()]\n",
    "\n",
    "plt.plot(year, in_rate, color='g')\n",
    "plt.xlabel('Year')\n",
    "plt.ylabel('Opioid Dependence Prevalence Rate (%)')\n",
    "plt.gca().yaxis.set_major_formatter(PercentFormatter(1))\n",
    "plt.title('Outpatient Opioid Dependence Prevalence Trend')\n",
    "plt.show()"
   ]
  },
  {
   "cell_type": "markdown",
   "metadata": {},
   "source": [
    "Wow! It seems that the **prevalence** rate DOUBLED on a cumulative basis in Outpatients from 2008 to 2010. We should look at the prevalence rates in the Inpatient and Carrier data as well!"
   ]
  },
  {
   "cell_type": "markdown",
   "metadata": {},
   "source": [
    "## Analysis: Inpatients diagnosed with opioid abuse\n",
    "Because our sample of Medicare outpatients diagnosed with opioid dependence is small (212 samples), it is worth it to get a look at inpatient data to see if we can get a larger sample. First, let's create an index corresponding to any rows that contain one of our relevant ICD codes:"
   ]
  },
  {
   "cell_type": "code",
   "execution_count": 196,
   "metadata": {},
   "outputs": [],
   "source": [
    "in_df = pd.read_csv('./DE1_0_2008_to_2010_Inpatient_Claims_Sample_1.csv',\n",
    "                dtype={'AT_PHYSN_NPI': 'str',\n",
    "                       'OP_PHYSN_NPI': 'str',\n",
    "                       'OT_PHYSN_NPI': 'str'})"
   ]
  },
  {
   "cell_type": "markdown",
   "metadata": {},
   "source": [
    "Let's add a year column:"
   ]
  },
  {
   "cell_type": "code",
   "execution_count": 201,
   "metadata": {},
   "outputs": [],
   "source": [
    "in_df['CLM_FROM_DT'] = pd.to_datetime(in_df['CLM_FROM_DT'].astype(str), format='%Y%m%d')\n",
    "in_df['CLM_THRU_DT'] = pd.to_datetime(in_df['CLM_THRU_DT'].astype(str), format='%Y%m%d')\n",
    "in_df['year'] = in_df['CLM_THRU_DT'].dt.to_period('Y')\n",
    "in_df['year'] = in_df['year'].astype(str)"
   ]
  },
  {
   "cell_type": "code",
   "execution_count": 202,
   "metadata": {},
   "outputs": [],
   "source": [
    "in_index = list(\n",
    "    in_df[icd_diag][in_df[icd_diag].isin(\n",
    "        ['30400','30401','30402','30403']\n",
    "    ).any(axis=1)].index\n",
    ")"
   ]
  },
  {
   "cell_type": "markdown",
   "metadata": {},
   "source": [
    "Then, we can filter our dataframe to show only those beneficiaries that corresponding to our selected Diagnosis codes. There are 239 unique beneficiaries diagnosed with `Opioid Dependency` in our sample:"
   ]
  },
  {
   "cell_type": "code",
   "execution_count": 218,
   "metadata": {},
   "outputs": [
    {
     "data": {
      "text/plain": [
       "239"
      ]
     },
     "execution_count": 218,
     "metadata": {},
     "output_type": "execute_result"
    }
   ],
   "source": [
    "in_ids = list(in_df.iloc[in_index]['DESYNPUF_ID'].unique())\n",
    "in_df.iloc[in_index]['DESYNPUF_ID'].nunique()"
   ]
  },
  {
   "cell_type": "markdown",
   "metadata": {},
   "source": [
    "Let's check how many unique cumulative beneficiaries there are in our sample from a 1-year, 2-year, and 3-year cumulative perspective (prevalence):"
   ]
  },
  {
   "cell_type": "code",
   "execution_count": 204,
   "metadata": {},
   "outputs": [
    {
     "name": "stdout",
     "output_type": "stream",
     "text": [
      "Number of beneficiaries for whom an opioid dependency claim was submitted\n",
      "2008: 79\n",
      "2008-2009: 186\n",
      "2008-2010: 239\n"
     ]
    }
   ],
   "source": [
    "print(\"Number of Outpatient beneficiaries for whom an opioid dependency claim was submitted\")\n",
    "print(\"2008:\", in_df.iloc[in_index][in_df.iloc[in_index]['year'].isin(['2008'])]['DESYNPUF_ID'].nunique())\n",
    "print(\"2008-2009:\", in_df.iloc[in_index][in_df.iloc[in_index]['year'].isin(['2008', '2009'])]['DESYNPUF_ID'].nunique())\n",
    "print(\"2008-2010:\", in_df.iloc[in_index][in_df.iloc[in_index]['year'].isin(['2008', '2009', '2010'])]['DESYNPUF_ID'].nunique())"
   ]
  },
  {
   "cell_type": "code",
   "execution_count": 205,
   "metadata": {},
   "outputs": [
    {
     "name": "stdout",
     "output_type": "stream",
     "text": [
      "Number of total Medicare beneficiaries for whom any claim was submitted\n",
      "2008: 15745\n",
      "2008-2009: 29380\n",
      "2008-2010: 37780\n"
     ]
    }
   ],
   "source": [
    "print(\"Number of total Outpatient Medicare beneficiaries for whom any claim was submitted\")\n",
    "print(\"2008:\", in_df[in_df['year'].isin(['2008'])]['DESYNPUF_ID'].nunique())\n",
    "print(\"2008-2009:\", in_df[in_df['year'].isin(['2008', '2009'])]['DESYNPUF_ID'].nunique())\n",
    "print(\"2008-2010:\", in_df[in_df['year'].isin(['2008', '2009', '2010'])]['DESYNPUF_ID'].nunique())"
   ]
  },
  {
   "cell_type": "code",
   "execution_count": 217,
   "metadata": {},
   "outputs": [
    {
     "name": "stdout",
     "output_type": "stream",
     "text": [
      "Prevalence (%) of opioid dependency in total Medicare beneficiaries\n",
      "2008: 0.502%\n",
      "2008-2009: 0.633%\n",
      "2008-2010: 0.633%\n"
     ]
    }
   ],
   "source": [
    "print(\"Prevalence (%) of opioid dependency in total Outpatient Medicare beneficiaries\")\n",
    "print(\"2008:\", \"{0:.3%}\".format(in_df.iloc[in_index][in_df.iloc[in_index]['year'].isin(['2008'])]['DESYNPUF_ID'].nunique() / in_df[in_df['year'].isin(['2008'])]['DESYNPUF_ID'].nunique()))\n",
    "print(\"2008-2009:\", \"{0:.3%}\".format(in_df.iloc[in_index][in_df.iloc[in_index]['year'].isin(['2008', '2009'])]['DESYNPUF_ID'].nunique() / in_df[in_df['year'].isin(['2008', '2009'])]['DESYNPUF_ID'].nunique()))\n",
    "print(\"2008-2010:\", \"{0:.3%}\".format(in_df.iloc[in_index][in_df.iloc[in_index]['year'].isin(['2008', '2009', '2010'])]['DESYNPUF_ID'].nunique() / in_df[in_df['year'].isin(['2008', '2009', '2010'])]['DESYNPUF_ID'].nunique()))"
   ]
  },
  {
   "cell_type": "markdown",
   "metadata": {},
   "source": [
    "Let's plot the above data."
   ]
  },
  {
   "cell_type": "code",
   "execution_count": 416,
   "metadata": {
    "scrolled": true
   },
   "outputs": [
    {
     "data": {
      "image/png": "[encoded data removed]",
      "text/plain": [
       "<Figure size 432x288 with 1 Axes>"
      ]
     },
     "metadata": {},
     "output_type": "display_data"
    }
   ],
   "source": [
    "year = ['2008', '2009', '2010']\n",
    "in_rate = [in_df.iloc[in_index][in_df.iloc[in_index]['year'].isin(['2008'])]['DESYNPUF_ID'].nunique() / in_df[in_df['year'].isin(['2008'])]['DESYNPUF_ID'].nunique(),\n",
    "           in_df.iloc[in_index][in_df.iloc[in_index]['year'].isin(['2008', '2009'])]['DESYNPUF_ID'].nunique() / in_df[in_df['year'].isin(['2008', '2009'])]['DESYNPUF_ID'].nunique(),\n",
    "           in_df.iloc[in_index][in_df.iloc[in_index]['year'].isin(['2008', '2009', '2010'])]['DESYNPUF_ID'].nunique() / in_df[in_df['year'].isin(['2008', '2009', '2010'])]['DESYNPUF_ID'].nunique()]\n",
    "\n",
    "plt.plot(year, in_rate, color='g')\n",
    "plt.xlabel('Year')\n",
    "plt.ylabel('Opioid Dependence Prevalence Rate (%)')\n",
    "plt.gca().yaxis.set_major_formatter(PercentFormatter(1))\n",
    "plt.title('Inpatient Opioid Dependence Prevalence Trend')\n",
    "plt.show()"
   ]
  },
  {
   "cell_type": "markdown",
   "metadata": {},
   "source": [
    "Great... so it looks like we were able to find an additional 239 Inpatient beneficiaries that were diagnosed with opioid dependency under ICD codes 30400/30401/30402/30403, out of a total of 37,780 total Inpatient beneficiaries, or **0.6%** of the Inpatient beneficiary population.  This is in addition to the 212 Outpatient beneficiaries from before.\n",
    "\n",
    "I want to also look at the Carrier data to ensure we capture as much data as possible."
   ]
  },
  {
   "cell_type": "markdown",
   "metadata": {},
   "source": [
    "## Analysis: Carrier-based (non-institutional) patients diagnosed with opioid abuse"
   ]
  },
  {
   "cell_type": "code",
   "execution_count": 233,
   "metadata": {},
   "outputs": [
    {
     "name": "stderr",
     "output_type": "stream",
     "text": [
      "/Users/namanbhandari/anaconda3/lib/python3.6/site-packages/IPython/core/interactiveshell.py:3265: DtypeWarning: Columns (9,10,11,46,47,48,49,50,135,136,137,138,139,140,141) have mixed types. Specify dtype option on import or set low_memory=False.\n",
      "  exec(code_obj, self.user_global_ns, self.user_ns)\n",
      "/Users/namanbhandari/anaconda3/lib/python3.6/site-packages/IPython/core/interactiveshell.py:3265: DtypeWarning: Columns (9,10,11,46,47,48,49,50,136,137,138,139,140,141) have mixed types. Specify dtype option on import or set low_memory=False.\n",
      "  exec(code_obj, self.user_global_ns, self.user_ns)\n"
     ]
    }
   ],
   "source": [
    "car_df = pd.concat(map(pd.read_csv, ['./DE1_0_2008_to_2010_Carrier_Claims_Sample_1A.csv', \n",
    "                                     './DE1_0_2008_to_2010_Carrier_Claims_Sample_1B.csv']))"
   ]
  },
  {
   "cell_type": "markdown",
   "metadata": {},
   "source": [
    "Let's add a year column:"
   ]
  },
  {
   "cell_type": "code",
   "execution_count": 234,
   "metadata": {},
   "outputs": [],
   "source": [
    "car_df['CLM_FROM_DT'] = pd.to_datetime(car_df['CLM_FROM_DT'].astype(str), format='%Y%m%d')\n",
    "car_df['CLM_THRU_DT'] = pd.to_datetime(car_df['CLM_THRU_DT'].astype(str), format='%Y%m%d')\n",
    "car_df['year'] = car_df['CLM_THRU_DT'].dt.to_period('Y')\n",
    "car_df['year'] = car_df['year'].astype(str)"
   ]
  },
  {
   "cell_type": "markdown",
   "metadata": {},
   "source": [
    "First, let's create an index corresponding to any rows that contain one of our relevant ICD codes:"
   ]
  },
  {
   "cell_type": "code",
   "execution_count": 235,
   "metadata": {},
   "outputs": [],
   "source": [
    "car_icd_diag = icd_diag[:-2]"
   ]
  },
  {
   "cell_type": "code",
   "execution_count": 236,
   "metadata": {},
   "outputs": [],
   "source": [
    "car_index = list(\n",
    "    car_df[car_icd_diag][car_df[car_icd_diag].isin(\n",
    "        ['30400','30401','30402','30403']\n",
    "    ).any(axis=1)].index\n",
    ")"
   ]
  },
  {
   "cell_type": "markdown",
   "metadata": {},
   "source": [
    "Then, we can filter our dataframe to show only those beneficiaries that corresponding to our selected Diagnosis codes. There are 892 unique beneficiaries diagnosed with `Opioid Dependency` in our sample:"
   ]
  },
  {
   "cell_type": "code",
   "execution_count": 251,
   "metadata": {},
   "outputs": [
    {
     "data": {
      "text/plain": [
       "892"
      ]
     },
     "execution_count": 251,
     "metadata": {},
     "output_type": "execute_result"
    }
   ],
   "source": [
    "car_ids = list(car_df.iloc[car_index]['DESYNPUF_ID'].unique())\n",
    "car_df.iloc[car_index]['DESYNPUF_ID'].nunique()"
   ]
  },
  {
   "cell_type": "markdown",
   "metadata": {},
   "source": [
    "Let's check how many unique cumulative beneficiaries there are in our sample from a 1-year, 2-year, and 3-year cumulative perspective (prevalence):"
   ]
  },
  {
   "cell_type": "code",
   "execution_count": 239,
   "metadata": {},
   "outputs": [
    {
     "name": "stdout",
     "output_type": "stream",
     "text": [
      "Number of beneficiaries for whom an opioid dependency claim was submitted\n",
      "2008: 298\n",
      "2008-2009: 670\n",
      "2008-2010: 892\n"
     ]
    }
   ],
   "source": [
    "print(\"Number of Carrier-based beneficiaries for whom an opioid dependency claim was submitted\")\n",
    "print(\"2008:\", car_df.iloc[car_index][car_df.iloc[car_index]['year'].isin(['2008'])]['DESYNPUF_ID'].nunique())\n",
    "print(\"2008-2009:\", car_df.iloc[car_index][car_df.iloc[car_index]['year'].isin(['2008', '2009'])]['DESYNPUF_ID'].nunique())\n",
    "print(\"2008-2010:\", car_df.iloc[car_index][car_df.iloc[car_index]['year'].isin(['2008', '2009', '2010'])]['DESYNPUF_ID'].nunique())"
   ]
  },
  {
   "cell_type": "code",
   "execution_count": 240,
   "metadata": {},
   "outputs": [
    {
     "name": "stdout",
     "output_type": "stream",
     "text": [
      "Number of total Medicare beneficiaries for whom any claim was submitted\n",
      "2008: 85290\n",
      "2008-2009: 94702\n",
      "2008-2010: 98626\n"
     ]
    }
   ],
   "source": [
    "print(\"Number of total Carrier-based Medicare beneficiaries for whom any claim was submitted\")\n",
    "print(\"2008:\", car_df[car_df['year'].isin(['2008'])]['DESYNPUF_ID'].nunique())\n",
    "print(\"2008-2009:\", car_df[car_df['year'].isin(['2008', '2009'])]['DESYNPUF_ID'].nunique())\n",
    "print(\"2008-2010:\", car_df[car_df['year'].isin(['2008', '2009', '2010'])]['DESYNPUF_ID'].nunique())"
   ]
  },
  {
   "cell_type": "code",
   "execution_count": 241,
   "metadata": {},
   "outputs": [
    {
     "name": "stdout",
     "output_type": "stream",
     "text": [
      "Prevalence (%) of opioid dependency in total Medicare beneficiaries\n",
      "2008: 0.349%\n",
      "2008-2009: 0.707%\n",
      "2008-2010: 0.904%\n"
     ]
    }
   ],
   "source": [
    "print(\"Prevalence (%) of opioid dependency in total Carrier-based Medicare beneficiaries\")\n",
    "print(\"2008:\", \"{0:.3%}\".format(car_df.iloc[car_index][car_df.iloc[car_index]['year'].isin(['2008'])]['DESYNPUF_ID'].nunique() / car_df[car_df['year'].isin(['2008'])]['DESYNPUF_ID'].nunique()))\n",
    "print(\"2008-2009:\", \"{0:.3%}\".format(car_df.iloc[car_index][car_df.iloc[car_index]['year'].isin(['2008', '2009'])]['DESYNPUF_ID'].nunique() / car_df[car_df['year'].isin(['2008', '2009'])]['DESYNPUF_ID'].nunique()))\n",
    "print(\"2008-2010:\", \"{0:.3%}\".format(car_df.iloc[car_index][car_df.iloc[car_index]['year'].isin(['2008', '2009', '2010'])]['DESYNPUF_ID'].nunique() / car_df[car_df['year'].isin(['2008', '2009', '2010'])]['DESYNPUF_ID'].nunique()))"
   ]
  },
  {
   "cell_type": "markdown",
   "metadata": {},
   "source": [
    "Let's plot the above data."
   ]
  },
  {
   "cell_type": "code",
   "execution_count": 417,
   "metadata": {},
   "outputs": [
    {
     "data": {
      "image/png": "[encoded data removed]",
      "text/plain": [
       "<Figure size 432x288 with 1 Axes>"
      ]
     },
     "metadata": {},
     "output_type": "display_data"
    }
   ],
   "source": [
    "year = ['2008', '2009', '2010']\n",
    "in_rate = [car_df.iloc[car_index][car_df.iloc[car_index]['year'].isin(['2008'])]['DESYNPUF_ID'].nunique() / car_df[car_df['year'].isin(['2008'])]['DESYNPUF_ID'].nunique(),\n",
    "           car_df.iloc[car_index][car_df.iloc[car_index]['year'].isin(['2008', '2009'])]['DESYNPUF_ID'].nunique() / car_df[car_df['year'].isin(['2008', '2009'])]['DESYNPUF_ID'].nunique(),\n",
    "           car_df.iloc[car_index][car_df.iloc[car_index]['year'].isin(['2008', '2009', '2010'])]['DESYNPUF_ID'].nunique() / car_df[car_df['year'].isin(['2008', '2009', '2010'])]['DESYNPUF_ID'].nunique()]\n",
    "\n",
    "plt.plot(year, in_rate, color='g')\n",
    "plt.xlabel('Year')\n",
    "plt.ylabel('Opioid Dependence Prevalence Rate (%)')\n",
    "plt.gca().yaxis.set_major_formatter(PercentFormatter(1))\n",
    "plt.title('Carrier-based Opioid Dependence Prevalence Trend')\n",
    "plt.show()"
   ]
  },
  {
   "cell_type": "markdown",
   "metadata": {},
   "source": [
    "Wow! It seems that the **prevalence** rate has TRIPLED on a cumulative basis in Carrier-based (read: non-institutional) patients from 2008 to 2010. We should now get a sense for the demographics and geographic location of the Medicare population as well, and see if they are located in states with doctors that have **clearance** to prescribe drugs such as Suboxone."
   ]
  },
  {
   "cell_type": "markdown",
   "metadata": {},
   "source": [
    "## Join beneficiary data to claims data\n",
    "First, let's get a consolidated list of the total **unique** beneficiaries across our 3 data sets."
   ]
  },
  {
   "cell_type": "code",
   "execution_count": 256,
   "metadata": {},
   "outputs": [],
   "source": [
    "tot_ids = list(set().union(in_ids, out_ids, car_ids))"
   ]
  },
  {
   "cell_type": "markdown",
   "metadata": {},
   "source": [
    "Then, let's load the beneficiary data and explore it to get a sense for patient demographics and geographic distribution. Geographic distribution is important because some states have more physicians that are able to prescribe Suboxone than others."
   ]
  },
  {
   "cell_type": "code",
   "execution_count": 449,
   "metadata": {},
   "outputs": [],
   "source": [
    "# ben = pd.read_csv('./DE1_0_2008_Beneficiary_Summary_File_Sample_1.csv')\n",
    "ben = pd.concat(map(pd.read_csv, ['../DE1_0_2008_Beneficiary_Summary_File_Sample_1.csv', \n",
    "                                  '../DE1_0_2009_Beneficiary_Summary_File_Sample_1.csv',\n",
    "                                  '../DE1_0_2010_Beneficiary_Summary_File_Sample_1.csv']))"
   ]
  },
  {
   "cell_type": "markdown",
   "metadata": {},
   "source": [
    "### Create new state, sex, and race columns with actual values"
   ]
  },
  {
   "cell_type": "markdown",
   "metadata": {},
   "source": [
    "The `state`, `sex`, and `race` in this table are coded, so let's assign the actual values to the codes. We have to create dictionaries for each and then use a function to create a new column based on the dictionary values:"
   ]
  },
  {
   "cell_type": "markdown",
   "metadata": {},
   "source": [
    "#### State"
   ]
  },
  {
   "cell_type": "code",
   "execution_count": 450,
   "metadata": {},
   "outputs": [],
   "source": [
    "state_d = {\n",
    "    1: 'AL', 2: 'AK', 3: 'AZ', 4: 'AR', 5: 'CA', 6: 'CO', 7: 'CT', 8: 'DE', 9: 'DC', 10: 'FL', 11: 'GA', 12: 'HI',\n",
    "    13: 'ID', 14: 'IL', 15: 'IN', 16: 'IA', 17: 'KS', 18: 'KY', 19: 'LA', 20: 'ME', 21: 'MD', 22: 'MA', 23: 'MI',\n",
    "    24: 'MN', 25: 'MS', 26: 'MO', 27: 'MT', 28: 'NE', 29: 'NV', 30: 'NH', 31: 'NJ', 32: 'NM', 33: 'NY', 34: 'NC',\n",
    "    35: 'ND', 36: 'OH', 37: 'OK', 38: 'OR', 39: 'PA', 41: 'RI', 42: 'SC', 43: 'SD', 44: 'TN', 45: 'TX', 46: 'UT',\n",
    "    47: 'VT', 49: 'VA', 50: 'WA', 51: 'WV', 52: 'WI', 53: 'WY', 54: 'Others'\n",
    "}"
   ]
  },
  {
   "cell_type": "code",
   "execution_count": 451,
   "metadata": {},
   "outputs": [],
   "source": [
    "ben['state'] = ben['SP_STATE_CODE'].map(state_d)"
   ]
  },
  {
   "cell_type": "markdown",
   "metadata": {},
   "source": [
    "#### Sex"
   ]
  },
  {
   "cell_type": "code",
   "execution_count": 452,
   "metadata": {},
   "outputs": [],
   "source": [
    "sex_d = {\n",
    "    1: 'M',\n",
    "    2: 'F'\n",
    "}"
   ]
  },
  {
   "cell_type": "code",
   "execution_count": 453,
   "metadata": {},
   "outputs": [],
   "source": [
    "ben['sex'] = ben['BENE_SEX_IDENT_CD'].map(sex_d)"
   ]
  },
  {
   "cell_type": "markdown",
   "metadata": {},
   "source": [
    "#### Race"
   ]
  },
  {
   "cell_type": "code",
   "execution_count": 454,
   "metadata": {},
   "outputs": [],
   "source": [
    "race_d = {\n",
    "    1: 'White',\n",
    "    2: 'Black',\n",
    "    3: 'Others',\n",
    "    5: 'Hispanic'\n",
    "}"
   ]
  },
  {
   "cell_type": "code",
   "execution_count": 455,
   "metadata": {},
   "outputs": [],
   "source": [
    "ben['race'] = ben['BENE_RACE_CD'].map(race_d)"
   ]
  },
  {
   "cell_type": "markdown",
   "metadata": {},
   "source": [
    "Now let's create a summary dataframe containing only those rows corresponding to our targeted beneficiary population."
   ]
  },
  {
   "cell_type": "code",
   "execution_count": 456,
   "metadata": {},
   "outputs": [],
   "source": [
    "ben_df = ben[ben['DESYNPUF_ID'].isin(tot_ids)]"
   ]
  },
  {
   "cell_type": "markdown",
   "metadata": {},
   "source": [
    "### Geographic Distribution"
   ]
  },
  {
   "cell_type": "markdown",
   "metadata": {},
   "source": [
    "Let's look at the geographic distribution of the beneficiaries:"
   ]
  },
  {
   "cell_type": "code",
   "execution_count": 474,
   "metadata": {},
   "outputs": [],
   "source": [
    "state_pivot = pd.pivot_table(ben_df, index=['state'], aggfunc='count')['DESYNPUF_ID'].sort_values(ascending=False)\n",
    "state_pivot_pct = state_pivot.transform(lambda x: x/x.sum())\n",
    "state_pivot_cum_pct = state_pivot.cumsum()/state_pivot.sum()"
   ]
  },
  {
   "cell_type": "code",
   "execution_count": 475,
   "metadata": {},
   "outputs": [],
   "source": [
    "states = pd.concat([state_pivot,state_pivot_pct, state_pivot_cum_pct], axis=1)\n",
    "states.columns = ['# Beneficiaries', '% of tot.', 'cum % of tot.']"
   ]
  },
  {
   "cell_type": "markdown",
   "metadata": {},
   "source": [
    "We can place our initial focus on the states that represent `80%` of the total sample. We can compare this internal data against outside physician capacity data to see which states have a low (read: good) `ratio` of `population with opioid dependence` to `maximum physician capacity`:"
   ]
  },
  {
   "cell_type": "code",
   "execution_count": 459,
   "metadata": {
    "scrolled": true
   },
   "outputs": [
    {
     "data": {
      "text/html": [
       "<div>\n",
       "<style scoped>\n",
       "    .dataframe tbody tr th:only-of-type {\n",
       "        vertical-align: middle;\n",
       "    }\n",
       "\n",
       "    .dataframe tbody tr th {\n",
       "        vertical-align: top;\n",
       "    }\n",
       "\n",
       "    .dataframe thead th {\n",
       "        text-align: right;\n",
       "    }\n",
       "</style>\n",
       "<table border=\"1\" class=\"dataframe\">\n",
       "  <thead>\n",
       "    <tr style=\"text-align: right;\">\n",
       "      <th></th>\n",
       "      <th># Beneficiaries</th>\n",
       "      <th>% of tot.</th>\n",
       "      <th>cum % of tot.</th>\n",
       "    </tr>\n",
       "    <tr>\n",
       "      <th>state</th>\n",
       "      <th></th>\n",
       "      <th></th>\n",
       "      <th></th>\n",
       "    </tr>\n",
       "  </thead>\n",
       "  <tbody>\n",
       "    <tr>\n",
       "      <th>CA</th>\n",
       "      <td>303</td>\n",
       "      <td>0.076303</td>\n",
       "      <td>0.076303</td>\n",
       "    </tr>\n",
       "    <tr>\n",
       "      <th>FL</th>\n",
       "      <td>272</td>\n",
       "      <td>0.068497</td>\n",
       "      <td>0.144800</td>\n",
       "    </tr>\n",
       "    <tr>\n",
       "      <th>NY</th>\n",
       "      <td>272</td>\n",
       "      <td>0.068497</td>\n",
       "      <td>0.213296</td>\n",
       "    </tr>\n",
       "    <tr>\n",
       "      <th>TX</th>\n",
       "      <td>230</td>\n",
       "      <td>0.057920</td>\n",
       "      <td>0.271216</td>\n",
       "    </tr>\n",
       "    <tr>\n",
       "      <th>OH</th>\n",
       "      <td>211</td>\n",
       "      <td>0.053135</td>\n",
       "      <td>0.324352</td>\n",
       "    </tr>\n",
       "    <tr>\n",
       "      <th>PA</th>\n",
       "      <td>204</td>\n",
       "      <td>0.051372</td>\n",
       "      <td>0.375724</td>\n",
       "    </tr>\n",
       "    <tr>\n",
       "      <th>IL</th>\n",
       "      <td>158</td>\n",
       "      <td>0.039788</td>\n",
       "      <td>0.415512</td>\n",
       "    </tr>\n",
       "    <tr>\n",
       "      <th>MI</th>\n",
       "      <td>150</td>\n",
       "      <td>0.037774</td>\n",
       "      <td>0.453286</td>\n",
       "    </tr>\n",
       "    <tr>\n",
       "      <th>NC</th>\n",
       "      <td>135</td>\n",
       "      <td>0.033996</td>\n",
       "      <td>0.487283</td>\n",
       "    </tr>\n",
       "    <tr>\n",
       "      <th>NJ</th>\n",
       "      <td>120</td>\n",
       "      <td>0.030219</td>\n",
       "      <td>0.517502</td>\n",
       "    </tr>\n",
       "    <tr>\n",
       "      <th>IN</th>\n",
       "      <td>120</td>\n",
       "      <td>0.030219</td>\n",
       "      <td>0.547721</td>\n",
       "    </tr>\n",
       "    <tr>\n",
       "      <th>GA</th>\n",
       "      <td>117</td>\n",
       "      <td>0.029464</td>\n",
       "      <td>0.577185</td>\n",
       "    </tr>\n",
       "    <tr>\n",
       "      <th>MA</th>\n",
       "      <td>108</td>\n",
       "      <td>0.027197</td>\n",
       "      <td>0.604382</td>\n",
       "    </tr>\n",
       "    <tr>\n",
       "      <th>TN</th>\n",
       "      <td>96</td>\n",
       "      <td>0.024175</td>\n",
       "      <td>0.628557</td>\n",
       "    </tr>\n",
       "    <tr>\n",
       "      <th>KY</th>\n",
       "      <td>90</td>\n",
       "      <td>0.022664</td>\n",
       "      <td>0.651221</td>\n",
       "    </tr>\n",
       "    <tr>\n",
       "      <th>MO</th>\n",
       "      <td>90</td>\n",
       "      <td>0.022664</td>\n",
       "      <td>0.673886</td>\n",
       "    </tr>\n",
       "    <tr>\n",
       "      <th>VA</th>\n",
       "      <td>88</td>\n",
       "      <td>0.022161</td>\n",
       "      <td>0.696046</td>\n",
       "    </tr>\n",
       "    <tr>\n",
       "      <th>LA</th>\n",
       "      <td>78</td>\n",
       "      <td>0.019642</td>\n",
       "      <td>0.715689</td>\n",
       "    </tr>\n",
       "    <tr>\n",
       "      <th>AZ</th>\n",
       "      <td>72</td>\n",
       "      <td>0.018131</td>\n",
       "      <td>0.733820</td>\n",
       "    </tr>\n",
       "    <tr>\n",
       "      <th>AL</th>\n",
       "      <td>71</td>\n",
       "      <td>0.017880</td>\n",
       "      <td>0.751700</td>\n",
       "    </tr>\n",
       "    <tr>\n",
       "      <th>WA</th>\n",
       "      <td>69</td>\n",
       "      <td>0.017376</td>\n",
       "      <td>0.769076</td>\n",
       "    </tr>\n",
       "    <tr>\n",
       "      <th>SC</th>\n",
       "      <td>65</td>\n",
       "      <td>0.016369</td>\n",
       "      <td>0.785444</td>\n",
       "    </tr>\n",
       "    <tr>\n",
       "      <th>WI</th>\n",
       "      <td>63</td>\n",
       "      <td>0.015865</td>\n",
       "      <td>0.801309</td>\n",
       "    </tr>\n",
       "  </tbody>\n",
       "</table>\n",
       "</div>"
      ],
      "text/plain": [
       "       # Beneficiaries  % of tot.  cum % of tot.\n",
       "state                                           \n",
       "CA                 303   0.076303       0.076303\n",
       "FL                 272   0.068497       0.144800\n",
       "NY                 272   0.068497       0.213296\n",
       "TX                 230   0.057920       0.271216\n",
       "OH                 211   0.053135       0.324352\n",
       "PA                 204   0.051372       0.375724\n",
       "IL                 158   0.039788       0.415512\n",
       "MI                 150   0.037774       0.453286\n",
       "NC                 135   0.033996       0.487283\n",
       "NJ                 120   0.030219       0.517502\n",
       "IN                 120   0.030219       0.547721\n",
       "GA                 117   0.029464       0.577185\n",
       "MA                 108   0.027197       0.604382\n",
       "TN                  96   0.024175       0.628557\n",
       "KY                  90   0.022664       0.651221\n",
       "MO                  90   0.022664       0.673886\n",
       "VA                  88   0.022161       0.696046\n",
       "LA                  78   0.019642       0.715689\n",
       "AZ                  72   0.018131       0.733820\n",
       "AL                  71   0.017880       0.751700\n",
       "WA                  69   0.017376       0.769076\n",
       "SC                  65   0.016369       0.785444\n",
       "WI                  63   0.015865       0.801309"
      ]
     },
     "execution_count": 459,
     "metadata": {},
     "output_type": "execute_result"
    }
   ],
   "source": [
    "states[states['cum % of tot.'] <=.81]"
   ]
  },
  {
   "cell_type": "markdown",
   "metadata": {},
   "source": [
    "Let's add a few columns of data here from outside research:\n",
    "- **implied population** with opioid dependence in each state, since our sample represents .25% of the actual population\n",
    "- **total available patient capacity** in each state, based on number of physicians cleared to prescribe Suboxone\n",
    "- **implied population % of capacity** in each state\n",
    "- **Compound Annual Growth Rate (CAGR)** of physicians between 2008-2010"
   ]
  },
  {
   "cell_type": "markdown",
   "metadata": {},
   "source": [
    "#### Implied population"
   ]
  },
  {
   "cell_type": "code",
   "execution_count": 497,
   "metadata": {},
   "outputs": [],
   "source": [
    "impl_pop_d = {\n",
    "    'CA': 40400,\n",
    "    'FL': 36267,\n",
    "    'NY': 36267,\n",
    "    'TX': 30667,\n",
    "    'OH': 28134,\n",
    "    'PA': 27200,\n",
    "    'IL': 21067,\n",
    "    'MI': 20000,\n",
    "    'NC': 18000,\n",
    "    'NJ': 16000,\n",
    "    'IN': 16000,\n",
    "    'GA': 15600,\n",
    "    'MA': 14400,\n",
    "    'TN': 12800,\n",
    "    'KY': 12000,\n",
    "    'MO': 12000,\n",
    "    'VA': 11734,\n",
    "    'LA': 10400,\n",
    "    'AZ': 9600,\n",
    "    'AL': 9467,\n",
    "    'WA': 9200,\n",
    "    'SC': 8667,\n",
    "    'WI': 8400,\n",
    "}"
   ]
  },
  {
   "cell_type": "code",
   "execution_count": 498,
   "metadata": {},
   "outputs": [],
   "source": [
    "states['implied pop.'] = states.index.map(impl_pop_d)"
   ]
  },
  {
   "cell_type": "markdown",
   "metadata": {},
   "source": [
    "#### Total capacity"
   ]
  },
  {
   "cell_type": "code",
   "execution_count": 499,
   "metadata": {},
   "outputs": [],
   "source": [
    "capacity_d = {\n",
    "    'CA': 111330,\n",
    "    'FL': 78420,\n",
    "    'NY': 116720,\n",
    "    'TX': 52830,\n",
    "    'OH': 35860,\n",
    "    'PA': 69010,\n",
    "    'IL': 24990,\n",
    "    'MI': 50630,\n",
    "    'NC': 21430,\n",
    "    'NJ': 47540,\n",
    "    'IN': 15870,\n",
    "    'GA': 28510,\n",
    "    'MA': 55810,\n",
    "    'TN': 24270,\n",
    "    'KY': 17480,\n",
    "    'MO': 11400,\n",
    "    'VA': 19890,\n",
    "    'LA': 17950,\n",
    "    'AZ': 18810,\n",
    "    'AL': 17100,\n",
    "    'WA': 23610,\n",
    "    'SC': 11250,\n",
    "    'WI': 16690,\n",
    "}"
   ]
  },
  {
   "cell_type": "code",
   "execution_count": 500,
   "metadata": {},
   "outputs": [],
   "source": [
    "states['tot. capacity'] = states.index.map(capacity_d)"
   ]
  },
  {
   "cell_type": "markdown",
   "metadata": {},
   "source": [
    "#### Population % of capacity"
   ]
  },
  {
   "cell_type": "code",
   "execution_count": 506,
   "metadata": {},
   "outputs": [],
   "source": [
    "pop_pct_cap_d = {\n",
    "    'CA': 0.362885116320848,\n",
    "    'FL': 0.46246705772337,\n",
    "    'NY': 0.310715101667809,\n",
    "    'TX': 0.580478263612846,\n",
    "    'OH': 0.784532440974159,\n",
    "    'PA': 0.394145775974496,\n",
    "    'IL': 0.843003868213952,\n",
    "    'MI': 0.395022713806044,\n",
    "    'NC': 0.839944003733084,\n",
    "    'NJ': 0.336558687421119,\n",
    "    'IN': 1.00819155639572,\n",
    "    'GA': 0.547176429323045,\n",
    "    'MA': 0.258018276294571,\n",
    "    'TN': 0.527400082406263,\n",
    "    'KY': 0.68649885583524,\n",
    "    'MO': 1.05263157894737,\n",
    "    'VA': 0.589911178146472,\n",
    "    'LA': 0.579387186629526,\n",
    "    'AZ': 0.5103668261563,\n",
    "    'AL': 0.553606237816764,\n",
    "    'WA': 0.389665396018636,\n",
    "    'SC': 0.77037037037037,\n",
    "    'WI': 0.503295386458957,\n",
    "}"
   ]
  },
  {
   "cell_type": "code",
   "execution_count": 507,
   "metadata": {},
   "outputs": [],
   "source": [
    "states['pop. % of capacity'] = states.index.map(pop_pct_cap_d)"
   ]
  },
  {
   "cell_type": "markdown",
   "metadata": {},
   "source": [
    "#### 2008-2010 physician CAGR"
   ]
  },
  {
   "cell_type": "code",
   "execution_count": 503,
   "metadata": {},
   "outputs": [],
   "source": [
    "cagr_d = {\n",
    "    'CA': 0.152958556425955,\n",
    "    'FL': 0.207431903442212,\n",
    "    'NY': 0.186074842749034,\n",
    "    'TX': 0.200613758457996,\n",
    "    'OH': 0.206381839575324,\n",
    "    'PA': 0.201299310521239,\n",
    "    'IL': 0.152626845227074,\n",
    "    'MI': 0.200165943955198,\n",
    "    'NC': 0.238105063709852,\n",
    "    'NJ': 0.150273143665266,\n",
    "    'IN': 0.158233417406421,\n",
    "    'GA': 0.179005357228902,\n",
    "    'MA': 0.189261804283746,\n",
    "    'TN': 0.281871938569664,\n",
    "    'KY': 0.278738854861923,\n",
    "    'MO': 0.201265155860081,\n",
    "    'VA': 0.185183959117382,\n",
    "    'LA': 0.167452821144208,\n",
    "    'AZ': 0.123572920367232,\n",
    "    'AL': 0.28165958695356,\n",
    "    'WA': 0.223579372439516,\n",
    "    'SC': 0.142411663260082,\n",
    "    'WI': 0.187277717460569,\n",
    "}"
   ]
  },
  {
   "cell_type": "code",
   "execution_count": 508,
   "metadata": {},
   "outputs": [],
   "source": [
    "states['2008-10 Phys CAGR'] = states.index.map(cagr_d)"
   ]
  },
  {
   "cell_type": "markdown",
   "metadata": {},
   "source": [
    "## Analysis: Geographic Distribution"
   ]
  },
  {
   "cell_type": "markdown",
   "metadata": {},
   "source": [
    "I've sorted the below table (remember: the below states make up 80% of the sample population) by the `population % of capacity` column to see which states have a high ratio of population to capacity (which indicates there are not enough physicians to service the population). It turns out 6 states have high ratios (above 75%):\n",
    "- MO (Missouri)\n",
    "- IN (Indiana)\n",
    "- OH (Ohio)\n",
    "- IL (Illinois)\n",
    "- NC (North Carolina)\n",
    "- SC (South Carolina)\n",
    "\n",
    "**MO and IN**: Of the 6 states, 2 (MO and IN) have ratios above 100%, which means there are not enough physicians to treat the total population in the state. Therefore, the number of prescriptions that can be written in those states is limited by this ceiling.\n",
    "\n",
    "**IL and SC**: Of the remaining 4 states, 2 states, IL and SC, have both ratios north of 75% AND physician CAGRs in the mid-teens, making those states relatively unfavorable for prescriptions that can be written.\n",
    "\n",
    "**OH and NC**: The final 2 states, OH and NC, saw physician CAGRs of 20%+, indicating that while constrained, physician capacity has been growing and may point to increased growth going forward easing capacity issues.\n",
    "\n",
    "When OH and NC are taken out of the 6 states, the remaining 4 states with high capacity-constraint ratios represent only 13.5% of the population, indicating that the majority of states have significant capacity, and in some cases, high physician growth rates, making the environment favorable for Suboxone prescription growth."
   ]
  },
  {
   "cell_type": "code",
   "execution_count": 509,
   "metadata": {
    "scrolled": true
   },
   "outputs": [
    {
     "data": {
      "text/html": [
       "<div>\n",
       "<style scoped>\n",
       "    .dataframe tbody tr th:only-of-type {\n",
       "        vertical-align: middle;\n",
       "    }\n",
       "\n",
       "    .dataframe tbody tr th {\n",
       "        vertical-align: top;\n",
       "    }\n",
       "\n",
       "    .dataframe thead th {\n",
       "        text-align: right;\n",
       "    }\n",
       "</style>\n",
       "<table border=\"1\" class=\"dataframe\">\n",
       "  <thead>\n",
       "    <tr style=\"text-align: right;\">\n",
       "      <th></th>\n",
       "      <th># Beneficiaries</th>\n",
       "      <th>implied pop.</th>\n",
       "      <th>tot. capacity</th>\n",
       "      <th>pop. % of capacity</th>\n",
       "      <th>2008-10 Phys CAGR</th>\n",
       "    </tr>\n",
       "    <tr>\n",
       "      <th>state</th>\n",
       "      <th></th>\n",
       "      <th></th>\n",
       "      <th></th>\n",
       "      <th></th>\n",
       "      <th></th>\n",
       "    </tr>\n",
       "  </thead>\n",
       "  <tbody>\n",
       "    <tr>\n",
       "      <th>MO</th>\n",
       "      <td>90</td>\n",
       "      <td>12000.0</td>\n",
       "      <td>11400.0</td>\n",
       "      <td>1.052632</td>\n",
       "      <td>0.201265</td>\n",
       "    </tr>\n",
       "    <tr>\n",
       "      <th>IN</th>\n",
       "      <td>120</td>\n",
       "      <td>16000.0</td>\n",
       "      <td>15870.0</td>\n",
       "      <td>1.008192</td>\n",
       "      <td>0.158233</td>\n",
       "    </tr>\n",
       "    <tr>\n",
       "      <th>IL</th>\n",
       "      <td>158</td>\n",
       "      <td>21067.0</td>\n",
       "      <td>24990.0</td>\n",
       "      <td>0.843004</td>\n",
       "      <td>0.152627</td>\n",
       "    </tr>\n",
       "    <tr>\n",
       "      <th>NC</th>\n",
       "      <td>135</td>\n",
       "      <td>18000.0</td>\n",
       "      <td>21430.0</td>\n",
       "      <td>0.839944</td>\n",
       "      <td>0.238105</td>\n",
       "    </tr>\n",
       "    <tr>\n",
       "      <th>OH</th>\n",
       "      <td>211</td>\n",
       "      <td>28134.0</td>\n",
       "      <td>35860.0</td>\n",
       "      <td>0.784532</td>\n",
       "      <td>0.206382</td>\n",
       "    </tr>\n",
       "    <tr>\n",
       "      <th>SC</th>\n",
       "      <td>65</td>\n",
       "      <td>8667.0</td>\n",
       "      <td>11250.0</td>\n",
       "      <td>0.770370</td>\n",
       "      <td>0.142412</td>\n",
       "    </tr>\n",
       "    <tr>\n",
       "      <th>KY</th>\n",
       "      <td>90</td>\n",
       "      <td>12000.0</td>\n",
       "      <td>17480.0</td>\n",
       "      <td>0.686499</td>\n",
       "      <td>0.278739</td>\n",
       "    </tr>\n",
       "    <tr>\n",
       "      <th>VA</th>\n",
       "      <td>88</td>\n",
       "      <td>11734.0</td>\n",
       "      <td>19890.0</td>\n",
       "      <td>0.589911</td>\n",
       "      <td>0.185184</td>\n",
       "    </tr>\n",
       "    <tr>\n",
       "      <th>TX</th>\n",
       "      <td>230</td>\n",
       "      <td>30667.0</td>\n",
       "      <td>52830.0</td>\n",
       "      <td>0.580478</td>\n",
       "      <td>0.200614</td>\n",
       "    </tr>\n",
       "    <tr>\n",
       "      <th>LA</th>\n",
       "      <td>78</td>\n",
       "      <td>10400.0</td>\n",
       "      <td>17950.0</td>\n",
       "      <td>0.579387</td>\n",
       "      <td>0.167453</td>\n",
       "    </tr>\n",
       "    <tr>\n",
       "      <th>AL</th>\n",
       "      <td>71</td>\n",
       "      <td>9467.0</td>\n",
       "      <td>17100.0</td>\n",
       "      <td>0.553606</td>\n",
       "      <td>0.281660</td>\n",
       "    </tr>\n",
       "    <tr>\n",
       "      <th>GA</th>\n",
       "      <td>117</td>\n",
       "      <td>15600.0</td>\n",
       "      <td>28510.0</td>\n",
       "      <td>0.547176</td>\n",
       "      <td>0.179005</td>\n",
       "    </tr>\n",
       "    <tr>\n",
       "      <th>TN</th>\n",
       "      <td>96</td>\n",
       "      <td>12800.0</td>\n",
       "      <td>24270.0</td>\n",
       "      <td>0.527400</td>\n",
       "      <td>0.281872</td>\n",
       "    </tr>\n",
       "    <tr>\n",
       "      <th>AZ</th>\n",
       "      <td>72</td>\n",
       "      <td>9600.0</td>\n",
       "      <td>18810.0</td>\n",
       "      <td>0.510367</td>\n",
       "      <td>0.123573</td>\n",
       "    </tr>\n",
       "    <tr>\n",
       "      <th>WI</th>\n",
       "      <td>63</td>\n",
       "      <td>8400.0</td>\n",
       "      <td>16690.0</td>\n",
       "      <td>0.503295</td>\n",
       "      <td>0.187278</td>\n",
       "    </tr>\n",
       "    <tr>\n",
       "      <th>FL</th>\n",
       "      <td>272</td>\n",
       "      <td>36267.0</td>\n",
       "      <td>78420.0</td>\n",
       "      <td>0.462467</td>\n",
       "      <td>0.207432</td>\n",
       "    </tr>\n",
       "    <tr>\n",
       "      <th>MI</th>\n",
       "      <td>150</td>\n",
       "      <td>20000.0</td>\n",
       "      <td>50630.0</td>\n",
       "      <td>0.395023</td>\n",
       "      <td>0.200166</td>\n",
       "    </tr>\n",
       "    <tr>\n",
       "      <th>PA</th>\n",
       "      <td>204</td>\n",
       "      <td>27200.0</td>\n",
       "      <td>69010.0</td>\n",
       "      <td>0.394146</td>\n",
       "      <td>0.201299</td>\n",
       "    </tr>\n",
       "    <tr>\n",
       "      <th>WA</th>\n",
       "      <td>69</td>\n",
       "      <td>9200.0</td>\n",
       "      <td>23610.0</td>\n",
       "      <td>0.389665</td>\n",
       "      <td>0.223579</td>\n",
       "    </tr>\n",
       "    <tr>\n",
       "      <th>CA</th>\n",
       "      <td>303</td>\n",
       "      <td>40400.0</td>\n",
       "      <td>111330.0</td>\n",
       "      <td>0.362885</td>\n",
       "      <td>0.152959</td>\n",
       "    </tr>\n",
       "    <tr>\n",
       "      <th>NJ</th>\n",
       "      <td>120</td>\n",
       "      <td>16000.0</td>\n",
       "      <td>47540.0</td>\n",
       "      <td>0.336559</td>\n",
       "      <td>0.150273</td>\n",
       "    </tr>\n",
       "    <tr>\n",
       "      <th>NY</th>\n",
       "      <td>272</td>\n",
       "      <td>36267.0</td>\n",
       "      <td>116720.0</td>\n",
       "      <td>0.310715</td>\n",
       "      <td>0.186075</td>\n",
       "    </tr>\n",
       "    <tr>\n",
       "      <th>MA</th>\n",
       "      <td>108</td>\n",
       "      <td>14400.0</td>\n",
       "      <td>55810.0</td>\n",
       "      <td>0.258018</td>\n",
       "      <td>0.189262</td>\n",
       "    </tr>\n",
       "  </tbody>\n",
       "</table>\n",
       "</div>"
      ],
      "text/plain": [
       "       # Beneficiaries  implied pop.  tot. capacity  pop. % of capacity  \\\n",
       "state                                                                     \n",
       "MO                  90       12000.0        11400.0            1.052632   \n",
       "IN                 120       16000.0        15870.0            1.008192   \n",
       "IL                 158       21067.0        24990.0            0.843004   \n",
       "NC                 135       18000.0        21430.0            0.839944   \n",
       "OH                 211       28134.0        35860.0            0.784532   \n",
       "SC                  65        8667.0        11250.0            0.770370   \n",
       "KY                  90       12000.0        17480.0            0.686499   \n",
       "VA                  88       11734.0        19890.0            0.589911   \n",
       "TX                 230       30667.0        52830.0            0.580478   \n",
       "LA                  78       10400.0        17950.0            0.579387   \n",
       "AL                  71        9467.0        17100.0            0.553606   \n",
       "GA                 117       15600.0        28510.0            0.547176   \n",
       "TN                  96       12800.0        24270.0            0.527400   \n",
       "AZ                  72        9600.0        18810.0            0.510367   \n",
       "WI                  63        8400.0        16690.0            0.503295   \n",
       "FL                 272       36267.0        78420.0            0.462467   \n",
       "MI                 150       20000.0        50630.0            0.395023   \n",
       "PA                 204       27200.0        69010.0            0.394146   \n",
       "WA                  69        9200.0        23610.0            0.389665   \n",
       "CA                 303       40400.0       111330.0            0.362885   \n",
       "NJ                 120       16000.0        47540.0            0.336559   \n",
       "NY                 272       36267.0       116720.0            0.310715   \n",
       "MA                 108       14400.0        55810.0            0.258018   \n",
       "\n",
       "       2008-10 Phys CAGR  \n",
       "state                     \n",
       "MO              0.201265  \n",
       "IN              0.158233  \n",
       "IL              0.152627  \n",
       "NC              0.238105  \n",
       "OH              0.206382  \n",
       "SC              0.142412  \n",
       "KY              0.278739  \n",
       "VA              0.185184  \n",
       "TX              0.200614  \n",
       "LA              0.167453  \n",
       "AL              0.281660  \n",
       "GA              0.179005  \n",
       "TN              0.281872  \n",
       "AZ              0.123573  \n",
       "WI              0.187278  \n",
       "FL              0.207432  \n",
       "MI              0.200166  \n",
       "PA              0.201299  \n",
       "WA              0.223579  \n",
       "CA              0.152959  \n",
       "NJ              0.150273  \n",
       "NY              0.186075  \n",
       "MA              0.189262  "
      ]
     },
     "execution_count": 509,
     "metadata": {},
     "output_type": "execute_result"
    }
   ],
   "source": [
    "states[states['cum % of tot.'] <=.81][['# Beneficiaries', \n",
    "                                       'implied pop.',\n",
    "                                       'tot. capacity',\n",
    "                                       'pop. % of capacity',\n",
    "                                       '2008-10 Phys CAGR']].sort_values('pop. % of capacity', ascending=False)"
   ]
  },
  {
   "attachments": {},
   "cell_type": "markdown",
   "metadata": {},
   "source": [
    "# Conclusion\n",
    "Given the rapid growth in the prevalence of opioid dependence in the Medicare population (and having outpaced Suboxone revenue growth), combined with comfortable levels of available prescribing capacity in various states, I recommend a long position in RB.L."
   ]
  },
  {
   "cell_type": "markdown",
   "metadata": {},
   "source": [
    "# --Memo--"
   ]
  },
  {
   "cell_type": "code",
   "execution_count": 469,
   "metadata": {},
   "outputs": [],
   "source": [
    "op_unique_out_08 = list(out_df.iloc[out_index][out_df.iloc[out_index]['year'].isin(['2008'])]['DESYNPUF_ID'].unique())\n",
    "op_unique_out_09 = list(out_df.iloc[out_index][out_df.iloc[out_index]['year'].isin(['2008', '2009'])]['DESYNPUF_ID'].unique())\n",
    "op_unique_out_10 = list(out_df.iloc[out_index][out_df.iloc[out_index]['year'].isin(['2008', '2009', '2010'])]['DESYNPUF_ID'].unique())"
   ]
  },
  {
   "cell_type": "code",
   "execution_count": 470,
   "metadata": {},
   "outputs": [],
   "source": [
    "op_unique_in_08 = list(in_df.iloc[in_index][in_df.iloc[in_index]['year'].isin(['2008'])]['DESYNPUF_ID'].unique())\n",
    "op_unique_in_09 = list(in_df.iloc[in_index][in_df.iloc[in_index]['year'].isin(['2008', '2009'])]['DESYNPUF_ID'].unique())\n",
    "op_unique_in_10 = list(in_df.iloc[in_index][in_df.iloc[in_index]['year'].isin(['2008', '2009', '2010'])]['DESYNPUF_ID'].unique())"
   ]
  },
  {
   "cell_type": "code",
   "execution_count": 471,
   "metadata": {},
   "outputs": [],
   "source": [
    "op_unique_car_08 = list(car_df.iloc[car_index][car_df.iloc[car_index]['year'].isin(['2008'])]['DESYNPUF_ID'].unique())\n",
    "op_unique_car_09 = list(car_df.iloc[car_index][car_df.iloc[car_index]['year'].isin(['2008', '2009'])]['DESYNPUF_ID'].unique())\n",
    "op_unique_car_10 = list(car_df.iloc[car_index][car_df.iloc[car_index]['year'].isin(['2008', '2009', '2010'])]['DESYNPUF_ID'].unique())"
   ]
  },
  {
   "cell_type": "code",
   "execution_count": 472,
   "metadata": {},
   "outputs": [],
   "source": [
    "op_unique_ids_08 = list(set().union(op_unique_out_08, \n",
    "                                       op_unique_in_08,\n",
    "                                       op_unique_car_08))"
   ]
  },
  {
   "cell_type": "code",
   "execution_count": 437,
   "metadata": {},
   "outputs": [],
   "source": [
    "op_unique_ids_08_09 = list(set().union(op_unique_out_08, \n",
    "                                       op_unique_out_09,\n",
    "                                       op_unique_in_08,\n",
    "                                       op_unique_in_09,\n",
    "                                       op_unique_car_08,\n",
    "                                       op_unique_car_09))"
   ]
  },
  {
   "cell_type": "code",
   "execution_count": 428,
   "metadata": {},
   "outputs": [],
   "source": [
    "op_unique_ids_08_10 = list(set().union(op_unique_out_08, \n",
    "                                       op_unique_out_09,\n",
    "                                       op_unique_out_10,\n",
    "                                       op_unique_in_08,\n",
    "                                       op_unique_in_09,\n",
    "                                       op_unique_in_10,\n",
    "                                       op_unique_car_08,\n",
    "                                       op_unique_car_09,\n",
    "                                       op_unique_car_10,))"
   ]
  },
  {
   "cell_type": "code",
   "execution_count": 440,
   "metadata": {},
   "outputs": [
    {
     "data": {
      "text/plain": [
       "(447, 1008, 1331)"
      ]
     },
     "execution_count": 440,
     "metadata": {},
     "output_type": "execute_result"
    }
   ],
   "source": [
    "len(op_unique_ids_08), len(op_unique_ids_08_09), len(op_unique_ids_08_10)"
   ]
  },
  {
   "cell_type": "code",
   "execution_count": 424,
   "metadata": {},
   "outputs": [],
   "source": [
    "tot_unique_out_08 = list(out_df[out_df['year'].isin(['2008'])]['DESYNPUF_ID'].unique())\n",
    "tot_unique_out_09 = list(out_df[out_df['year'].isin(['2008', '2009'])]['DESYNPUF_ID'].unique())\n",
    "tot_unique_out_10 = list(out_df[out_df['year'].isin(['2008', '2009', '2010'])]['DESYNPUF_ID'].unique())"
   ]
  },
  {
   "cell_type": "code",
   "execution_count": 432,
   "metadata": {},
   "outputs": [],
   "source": [
    "tot_unique_in_08 = list(in_df[in_df['year'].isin(['2008'])]['DESYNPUF_ID'].unique())\n",
    "tot_unique_in_09 = list(in_df[in_df['year'].isin(['2008', '2009'])]['DESYNPUF_ID'].unique())\n",
    "tot_unique_in_10 = list(in_df[in_df['year'].isin(['2008', '2009', '2010'])]['DESYNPUF_ID'].unique())"
   ]
  },
  {
   "cell_type": "code",
   "execution_count": 427,
   "metadata": {},
   "outputs": [],
   "source": [
    "tot_unique_car_08 = list(car_df[car_df['year'].isin(['2008'])]['DESYNPUF_ID'].unique())\n",
    "tot_unique_car_09 = list(car_df[car_df['year'].isin(['2008', '2009'])]['DESYNPUF_ID'].unique())\n",
    "tot_unique_car_10 = list(car_df[car_df['year'].isin(['2008', '2009', '2010'])]['DESYNPUF_ID'].unique())"
   ]
  },
  {
   "cell_type": "code",
   "execution_count": 444,
   "metadata": {},
   "outputs": [],
   "source": [
    "tot_unique_ids_08 = list(set().union(tot_unique_out_08, \n",
    "                                        tot_unique_in_08,\n",
    "                                        tot_unique_car_08))"
   ]
  },
  {
   "cell_type": "code",
   "execution_count": 445,
   "metadata": {},
   "outputs": [],
   "source": [
    "tot_unique_ids_08_09 = list(set().union(tot_unique_out_08, \n",
    "                                        tot_unique_out_09,\n",
    "                                        tot_unique_in_08,\n",
    "                                        tot_unique_in_09,\n",
    "                                        tot_unique_car_08,\n",
    "                                        tot_unique_car_09))"
   ]
  },
  {
   "cell_type": "code",
   "execution_count": 446,
   "metadata": {},
   "outputs": [],
   "source": [
    "tot_unique_ids_08_10 = list(set().union(tot_unique_out_08, \n",
    "                                        tot_unique_out_09,\n",
    "                                        tot_unique_out_10,\n",
    "                                        tot_unique_in_08,\n",
    "                                        tot_unique_in_09,\n",
    "                                        tot_unique_in_10,\n",
    "                                        tot_unique_car_08,\n",
    "                                        tot_unique_car_09,\n",
    "                                        tot_unique_car_10,))"
   ]
  },
  {
   "cell_type": "code",
   "execution_count": 447,
   "metadata": {},
   "outputs": [
    {
     "data": {
      "text/plain": [
       "(86209, 95454, 99210)"
      ]
     },
     "execution_count": 447,
     "metadata": {},
     "output_type": "execute_result"
    }
   ],
   "source": [
    "len(tot_unique_ids_08), len(tot_unique_ids_08_09), len(tot_unique_ids_08_10)"
   ]
  }
 ],
 "metadata": {
  "kernelspec": {
   "display_name": "Python 3",
   "language": "python",
   "name": "python3"
  },
  "language_info": {
   "codemirror_mode": {
    "name": "ipython",
    "version": 3
   },
   "file_extension": ".py",
   "mimetype": "text/x-python",
   "name": "python",
   "nbconvert_exporter": "python",
   "pygments_lexer": "ipython3",
   "version": "3.6.5"
  }
 },
 "nbformat": 4,
 "nbformat_minor": 2
}
